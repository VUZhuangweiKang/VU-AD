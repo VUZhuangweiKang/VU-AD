{
 "cells": [
  {
   "cell_type": "code",
   "execution_count": 1,
   "source": [
    "%matplotlib inline\n",
    "from helper import *\n",
    "import plotter as pltr"
   ],
   "outputs": [],
   "metadata": {}
  },
  {
   "cell_type": "code",
   "execution_count": 2,
   "source": [
    "# Hyper-parameters\n",
    "window_size = 50\n",
    "step_size = int(0.1 * window_size)\n",
    "dataset = 'SMD'"
   ],
   "outputs": [],
   "metadata": {}
  },
  {
   "cell_type": "markdown",
   "source": [
    "## Step 1. Load Dataset"
   ],
   "metadata": {}
  },
  {
   "cell_type": "code",
   "execution_count": 3,
   "source": [
    "if dataset == 'SMD':\n",
    "    GROUP = 1\n",
    "    ENTITY = 2\n",
    "    SMD_BASE_PATH = 'Dataset/SMD'\n",
    "\n",
    "    X_train = load_data('%s/train/machine-%d-%d.txt' % (SMD_BASE_PATH, GROUP, ENTITY), header=False)\n",
    "    X_train.columns = ['m%d' % i for i in range(X_train.shape[1])]\n",
    "    X_train.index = pd.date_range('2021/03/02', '2021/03/21', periods=X_train.shape[0])\n",
    "    X_train.index.name = 'timestamp'\n",
    "\n",
    "    X_test = load_data('%s/test/machine-%d-%d.txt' % (SMD_BASE_PATH, GROUP, ENTITY), header=False)\n",
    "    X_test.columns = ['m%d' % i for i in range(X_test.shape[1])]\n",
    "    X_test.index = pd.date_range('2021/03/21', '2021/4/8', periods=X_test.shape[0])\n",
    "    X_test.index.name = 'timestamp'\n",
    "\n",
    "    y_true = pd.read_csv('Dataset/SMD/test_label/machine-%d-%d.txt' % (GROUP, ENTITY), header=None)\n",
    "    y_true.columns = ['label']\n",
    "    y_true.index = X_test.index"
   ],
   "outputs": [],
   "metadata": {}
  },
  {
   "cell_type": "code",
   "execution_count": 4,
   "source": [
    "print('Train Shape:', X_train.shape)\n",
    "print('Test Shape:', X_test.shape)"
   ],
   "outputs": [],
   "metadata": {}
  },
  {
   "cell_type": "code",
   "execution_count": 5,
   "source": [
    "# plot the first dimension\n",
    "pltr.plot_data(pd.concat([X_train, X_test], axis=0), 'm0')"
   ],
   "outputs": [],
   "metadata": {}
  },
  {
   "cell_type": "code",
   "execution_count": 6,
   "source": [
    "# from sklearn.preprocessing import StandardScaler\n",
    "# scaler = StandardScaler()\n",
    "# X_train = scaler.fit_transform(X_train)"
   ],
   "outputs": [],
   "metadata": {}
  },
  {
   "cell_type": "code",
   "execution_count": 7,
   "source": [
    "X_train = X_train.to_numpy()"
   ],
   "outputs": [],
   "metadata": {}
  },
  {
   "cell_type": "code",
   "execution_count": 8,
   "source": [
    "X_train.shape"
   ],
   "outputs": [
    {
     "output_type": "execute_result",
     "data": {
      "text/plain": [
       "(23694, 37)"
      ]
     },
     "metadata": {},
     "execution_count": 8
    }
   ],
   "metadata": {}
  },
  {
   "cell_type": "markdown",
   "source": [
    "## Step 2. Anomaly Detection"
   ],
   "metadata": {}
  },
  {
   "cell_type": "code",
   "execution_count": 9,
   "source": [
    "from collections import Counter\n",
    "import matplotlib.pyplot as plt\n",
    "import numpy as np\n",
    "import pymc3 as pm\n",
    "import seaborn as sns\n",
    "import theano\n",
    "import theano.tensor as tt\n",
    "import arviz as az\n",
    "\n",
    "pm.set_tt_rng(42)\n",
    "np.random.seed(42)"
   ],
   "outputs": [],
   "metadata": {}
  },
  {
   "cell_type": "code",
   "execution_count": 10,
   "source": [
    "az.plot_kde(X_train[:, 0], rug=True)\n",
    "plt.yticks([0], alpha=0)\n",
    "plt.show()"
   ],
   "outputs": [],
   "metadata": {}
  },
  {
   "cell_type": "code",
   "execution_count": 11,
   "source": [
    "with pm.Model() as model:\n",
    "    pm.Normal('N', mu=0, sigma=1, shape=(X_train.shape[1], ))\n",
    "    inference = pm.NFVI(\"scale-hh*%d-loc\" % X_train.shape[1], jitter=0.01, observed=X_train)"
   ],
   "outputs": [],
   "metadata": {}
  },
  {
   "cell_type": "code",
   "execution_count": 12,
   "source": [
    "inference.fit(\n",
    "    n=10000,\n",
    "    obj_optimizer=pm.adam(learning_rate=0.01),\n",
    "    obj_n_mc=100,\n",
    "    callbacks=[pm.callbacks.CheckParametersConvergence()],\n",
    ")"
   ],
   "outputs": [],
   "metadata": {}
  },
  {
   "cell_type": "code",
   "execution_count": 13,
   "source": [
    "traceNF = inference.approx.sample(1000)\n",
    "dftrace = pm.trace_to_dataframe(traceNF)"
   ],
   "outputs": [],
   "metadata": {}
  },
  {
   "cell_type": "code",
   "execution_count": 14,
   "source": [
    "with model:\n",
    "    traceNF = pm.sample(1000, return_inferencedata=True)"
   ],
   "outputs": [],
   "metadata": {}
  },
  {
   "cell_type": "code",
   "execution_count": null,
   "source": [
    "az.plot_trace(traceNF)"
   ],
   "outputs": [],
   "metadata": {}
  },
  {
   "cell_type": "code",
   "execution_count": 17,
   "source": [
    "sns.jointplot(dftrace.iloc[:, 0],  dftrace[:, 1], kind=\"kde\") # plot this"
   ],
   "outputs": [],
   "metadata": {}
  },
  {
   "cell_type": "code",
   "execution_count": null,
   "source": [
    "dftrace"
   ],
   "outputs": [],
   "metadata": {}
  },
  {
   "cell_type": "code",
   "execution_count": null,
   "source": [
    "with model:\n",
    "    ppc = pm.sample_posterior_predictive(traceNF, var_names=['N'])"
   ],
   "outputs": [],
   "metadata": {}
  },
  {
   "cell_type": "code",
   "execution_count": null,
   "source": [
    "ppc['N']"
   ],
   "outputs": [],
   "metadata": {}
  }
 ],
 "metadata": {
  "orig_nbformat": 4,
  "language_info": {
   "name": "python",
   "version": "3.8.2",
   "mimetype": "text/x-python",
   "codemirror_mode": {
    "name": "ipython",
    "version": 3
   },
   "pygments_lexer": "ipython3",
   "nbconvert_exporter": "python",
   "file_extension": ".py"
  },
  "kernelspec": {
   "name": "python3",
   "display_name": "Python 3.8.2 64-bit"
  },
  "interpreter": {
   "hash": "31f2aee4e71d21fbe5cf8b01ff0e069b9275f58929596ceb00d14d90e3e16cd6"
  }
 },
 "nbformat": 4,
 "nbformat_minor": 2
}