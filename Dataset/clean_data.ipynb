{
 "cells": [
  {
   "cell_type": "code",
   "execution_count": 1,
   "metadata": {
    "collapsed": true,
    "pycharm": {
     "name": "#%%\n"
    }
   },
   "outputs": [],
   "source": [
    "import numpy as np\n",
    "import pandas as pd\n",
    "from helper import *"
   ]
  },
  {
   "cell_type": "markdown",
   "source": [
    "## CTF Dataset Overview\n",
    "\n",
    "- 13-days-long dataset collected from a from a top global Internet company\n",
    "- Sampling frequency: 30s, column name: unknown\n",
    "- Contains 533 machine entities\n",
    "- The first five days' data for training and the latter eight days' data for testing.\n",
    "- Each machine includes 49 KPIs (dimensions)\n",
    "- Anomalies in testing set have been labeled"
   ],
   "metadata": {
    "collapsed": false
   }
  },
  {
   "cell_type": "code",
   "execution_count": 2,
   "outputs": [],
   "source": [
    "# data file name format: <entity>_<day>.txt\n",
    "# process CTF dataset\n",
    "def helper(entity, start, end):\n",
    "    data = pd.DataFrame([])\n",
    "    for day in range(start, end):\n",
    "        try:\n",
    "            day_data = pd.read_csv('Dataset/CTF/CTF_data/%d_%d.txt' % (entity, day), header=None)\n",
    "            data = pd.concat([data, day_data])\n",
    "        except:\n",
    "            continue\n",
    "    data.columns = ['m%d' % i for i in range(data.shape[1])]\n",
    "    return data\n",
    "\n",
    "for e in range(0, 533):\n",
    "    try:\n",
    "        X_train = helper(e, 18, 23)\n",
    "        X_train.index = pd.date_range(start='2020/04/18', freq='30s', periods=X_train.shape[0])\n",
    "        X_train.index.name = 'timestamp'\n",
    "\n",
    "        X_test = helper(e, 23, 31)\n",
    "        X_test.index = pd.date_range(start='2020/04/23', freq='30s', periods=X_test.shape[0])\n",
    "        X_test.index.name = 'timestamp'\n",
    "    except Exception as ex:\n",
    "        print('skip entity: %d' % e)\n",
    "        continue\n",
    "    finally:\n",
    "        X_train.to_csv('Dataset/CTF/processed/train/%s.csv' % e)\n",
    "        X_test.to_csv('Dataset/CTF/processed/test/%s.csv' % e)"
   ],
   "metadata": {
    "collapsed": false,
    "pycharm": {
     "name": "#%%\n"
    }
   }
  },
  {
   "cell_type": "markdown",
   "source": [
    "## SMD Dataset Overview\n",
    "\n",
    "- 5-week-long dataset collected from a large Internet company\n",
    "- Sampling frequency and column name: unknown\n",
    "- Contains 3 groups of entities (28 machines in total)\n",
    "- Data have been evenly divided into training set and testing set\n",
    "- Each machine includes 38 KPIs (dimensions)\n",
    "- Anomalies in testing set have been labeled"
   ],
   "metadata": {
    "collapsed": false
   }
  },
  {
   "cell_type": "code",
   "execution_count": 3,
   "outputs": [],
   "source": [
    "for g in range(1, 4):\n",
    "    for e in range(1, 12):\n",
    "        try:\n",
    "            process_smd(g, e)\n",
    "        except:\n",
    "            continue"
   ],
   "metadata": {
    "collapsed": false,
    "pycharm": {
     "name": "#%%\n"
    }
   }
  }
 ],
 "metadata": {
  "kernelspec": {
   "display_name": "Python 3",
   "language": "python",
   "name": "python3"
  },
  "language_info": {
   "codemirror_mode": {
    "name": "ipython",
    "version": 2
   },
   "file_extension": ".py",
   "mimetype": "text/x-python",
   "name": "python",
   "nbconvert_exporter": "python",
   "pygments_lexer": "ipython2",
   "version": "3.7.7"
  }
 },
 "nbformat": 4,
 "nbformat_minor": 0
}