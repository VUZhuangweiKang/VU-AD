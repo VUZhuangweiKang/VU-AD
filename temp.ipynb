{
 "cells": [
  {
   "cell_type": "code",
   "execution_count": 13,
   "source": [
    "%matplotlib inline\n",
    "from helper import *\n",
    "import plotter as pltr"
   ],
   "outputs": [],
   "metadata": {}
  },
  {
   "cell_type": "code",
   "execution_count": 14,
   "source": [
    "# Hyper-parameters\n",
    "window_size = 50\n",
    "step_size = int(0.1 * window_size)\n",
    "dataset = 'SMD'"
   ],
   "outputs": [],
   "metadata": {}
  },
  {
   "cell_type": "code",
   "execution_count": 15,
   "source": [
    "if dataset == 'SMD':\n",
    "    GROUP = 1\n",
    "    ENTITY = 2\n",
    "    SMD_BASE_PATH = 'Dataset/SMD'\n",
    "\n",
    "    X_train = load_data('%s/train/machine-%d-%d.txt' % (SMD_BASE_PATH, GROUP, ENTITY), header=False)\n",
    "    X_train.columns = ['m%d' % i for i in range(X_train.shape[1])]\n",
    "    X_train.index = pd.date_range('2021/03/02', '2021/03/21', periods=X_train.shape[0])\n",
    "    X_train.index.name = 'timestamp'\n",
    "\n",
    "    X_test = load_data('%s/test/machine-%d-%d.txt' % (SMD_BASE_PATH, GROUP, ENTITY), header=False)\n",
    "    X_test.columns = ['m%d' % i for i in range(X_test.shape[1])]\n",
    "    X_test.index = pd.date_range('2021/03/21', '2021/4/8', periods=X_test.shape[0])\n",
    "    X_test.index.name = 'timestamp'\n",
    "\n",
    "    y_true = pd.read_csv('Dataset/SMD/test_label/machine-%d-%d.txt' % (GROUP, ENTITY), header=None)\n",
    "    y_true.columns = ['label']\n",
    "    y_true.index = X_test.index"
   ],
   "outputs": [],
   "metadata": {}
  },
  {
   "cell_type": "code",
   "execution_count": 16,
   "source": [
    "X_train = X_train.to_numpy()\n",
    "X_test = X_test.to_numpy()\n",
    "y_true = y_true.to_numpy()\n",
    "print(\"window size:\", window_size)"
   ],
   "outputs": [
    {
     "output_type": "stream",
     "name": "stdout",
     "text": [
      "window size: 50\n"
     ]
    }
   ],
   "metadata": {}
  },
  {
   "cell_type": "code",
   "execution_count": 17,
   "source": [
    "# load dependencies\n",
    "import pandas as pd\n",
    "import numpy as np\n",
    "import matplotlib.pyplot as plt\n",
    "import seaborn as sns\n",
    "import pymc3 as pm\n",
    "from pymc3.distributions.timeseries import AR as ar\n",
    "from scipy import optimize\n",
    "\n",
    "sns.set_context('talk')\n",
    "\n",
    "def create_model(X):\n",
    "    with pm.Model() as model_pmc3:\n",
    "        phi = pm.Beta(\"phi\", 2., 2.)\n",
    "        phi = 2*phi - 1\n",
    "        sigma =  pm.InverseGamma('sigma', 2.5, 0.025)\n",
    "        mu =  pm.Normal(\"mu\", mu=0., sigma=1.)\n",
    "        h = ar('h', rho=[mu*(1-phi), phi], sigma=sigma ** 2, shape=X.shape)\n",
    "        y = pm.Normal('y', 0., pm.math.exp(h/2), observed=X)\n",
    "        return model_pmc3\n",
    "\n",
    "stochastic_vol_model = create_model(X_train)"
   ],
   "outputs": [],
   "metadata": {}
  },
  {
   "cell_type": "code",
   "execution_count": 18,
   "source": [
    "# run NFVI\n",
    "nf = \"scale-loc\"\n",
    "\n",
    "with stochastic_vol_model:\n",
    "    inference = pm.NFVI(nf, jitter=0.01)\n",
    "\n",
    "inference.fit(3000, obj_optimizer=pm.adam(learning_rate=.1), obj_n_mc=20)"
   ],
   "outputs": [
    {
     "output_type": "display_data",
     "data": {
      "text/plain": [
       "<IPython.core.display.HTML object>"
      ],
      "text/html": [
       "\n",
       "    <div>\n",
       "        <style>\n",
       "            /* Turns off some styling */\n",
       "            progress {\n",
       "                /* gets rid of default border in Firefox and Opera. */\n",
       "                border: none;\n",
       "                /* Needs to be in here for Safari polyfill so background images work as expected. */\n",
       "                background-size: auto;\n",
       "            }\n",
       "            .progress-bar-interrupted, .progress-bar-interrupted::-webkit-progress-bar {\n",
       "                background: #F44336;\n",
       "            }\n",
       "        </style>\n",
       "      <progress value='315' class='' max='3000' style='width:300px; height:20px; vertical-align: middle;'></progress>\n",
       "      10.50% [315/3000 16:08<2:17:33 Average Loss = -5.7202e+05]\n",
       "    </div>\n",
       "    "
      ]
     },
     "metadata": {}
    },
    {
     "output_type": "stream",
     "name": "stderr",
     "text": [
      "Interrupted at 315 [10%]: Average Loss = -5.9868e+05\n"
     ]
    },
    {
     "output_type": "execute_result",
     "data": {
      "text/plain": [
       "<pymc3.variational.approximations.NormalizingFlow at 0x7ff4e1361d00>"
      ]
     },
     "metadata": {},
     "execution_count": 18
    }
   ],
   "metadata": {}
  },
  {
   "cell_type": "code",
   "execution_count": null,
   "source": [
    "n_smpl = 1000\n",
    "traceNF = inference.approx.sample(n_smpl)"
   ],
   "outputs": [],
   "metadata": {}
  },
  {
   "cell_type": "code",
   "execution_count": null,
   "source": [
    "with stochastic_vol_model:\n",
    "    posterior_predictive_nf = pm.sample_posterior_predictive(traceNF)"
   ],
   "outputs": [],
   "metadata": {}
  }
 ],
 "metadata": {
  "orig_nbformat": 4,
  "language_info": {
   "name": "python",
   "version": "3.8.2",
   "mimetype": "text/x-python",
   "codemirror_mode": {
    "name": "ipython",
    "version": 3
   },
   "pygments_lexer": "ipython3",
   "nbconvert_exporter": "python",
   "file_extension": ".py"
  },
  "kernelspec": {
   "name": "python3",
   "display_name": "Python 3.8.2 64-bit"
  },
  "interpreter": {
   "hash": "31f2aee4e71d21fbe5cf8b01ff0e069b9275f58929596ceb00d14d90e3e16cd6"
  }
 },
 "nbformat": 4,
 "nbformat_minor": 2
}