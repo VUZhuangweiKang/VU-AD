{
 "metadata": {
  "language_info": {
   "codemirror_mode": {
    "name": "ipython",
    "version": 3
   },
   "file_extension": ".py",
   "mimetype": "text/x-python",
   "name": "python",
   "nbconvert_exporter": "python",
   "pygments_lexer": "ipython3",
   "version": "3.7.3"
  },
  "orig_nbformat": 2,
  "kernelspec": {
   "name": "python37364bit4fc548140d4f4e008905f7f6d161a80d",
   "display_name": "Python 3.7.3 64-bit"
  },
  "metadata": {
   "interpreter": {
    "hash": "31f2aee4e71d21fbe5cf8b01ff0e069b9275f58929596ceb00d14d90e3e16cd6"
   }
  }
 },
 "nbformat": 4,
 "nbformat_minor": 2,
 "cells": [
  {
   "cell_type": "code",
   "execution_count": 1,
   "metadata": {},
   "outputs": [
    {
     "output_type": "stream",
     "name": "stdout",
     "text": [
      "Requirement already satisfied: pandas in /Library/Frameworks/Python.framework/Versions/3.7/lib/python3.7/site-packages (1.1.3)\n",
      "Requirement already satisfied: python-dateutil>=2.7.3 in /Library/Frameworks/Python.framework/Versions/3.7/lib/python3.7/site-packages (from pandas) (2.8.1)\n",
      "Requirement already satisfied: numpy>=1.15.4 in /Library/Frameworks/Python.framework/Versions/3.7/lib/python3.7/site-packages (from pandas) (1.18.2)\n",
      "Requirement already satisfied: pytz>=2017.2 in /Library/Frameworks/Python.framework/Versions/3.7/lib/python3.7/site-packages (from pandas) (2021.1)\n",
      "Requirement already satisfied: six>=1.5 in /Library/Frameworks/Python.framework/Versions/3.7/lib/python3.7/site-packages (from python-dateutil>=2.7.3->pandas) (1.15.0)\n",
      "\u001b[33mWARNING: You are using pip version 20.1.1; however, version 21.1.2 is available.\n",
      "You should consider upgrading via the '/Library/Frameworks/Python.framework/Versions/3.7/bin/python3.7 -m pip install --upgrade pip' command.\u001b[0m\n"
     ]
    }
   ],
   "source": [
    "!pip3 install pandas"
   ]
  },
  {
   "cell_type": "code",
   "execution_count": 2,
   "metadata": {},
   "outputs": [],
   "source": [
    "import pandas as pd\n",
    "\n",
    "GROUP = 1\n",
    "ENTITY = 3\n",
    "SMD_BASE_PATH = '../Dataset/SMD/processed'\n",
    "\n",
    "X_train = pd.read_csv('%s/train/machine-%d-%d.txt' % (SMD_BASE_PATH, GROUP, ENTITY), index_col=0)\n",
    "X_test = pd.read_csv('%s/test/machine-%d-%d.txt' % (SMD_BASE_PATH, GROUP, ENTITY), index_col=0)\n",
    "\n",
    "y_test = pd.read_csv('../Dataset/SMD/test_label/machine-%d-%d.txt' % (GROUP, ENTITY), header=None)\n",
    "y_test.columns = ['label']\n",
    "y_test.index = X_test.index\n",
    "y_test = y_test.iloc[:-1000]\n",
    "\n",
    "# remove all-zero columns that are in training or testing set\n",
    "train_nonzero_cols = X_train.columns[(X_train != 0).any()]\n",
    "test_nonzero_cols = X_test.columns[(X_test != 0).any()]\n",
    "cols = set(train_nonzero_cols) & set(test_nonzero_cols)\n",
    "\n",
    "X_train = X_train[cols]\n",
    "X_test = X_test[cols].iloc[:-1000]\n",
    "\n",
    "train_index = X_train.index\n",
    "train_lines = X_train.shape[0]\n",
    "test_index = X_test.index\n",
    "test_lines = X_test.shape[0]\n",
    "\n",
    "X = pd.concat([X_train, X_test], axis=0)"
   ]
  },
  {
   "cell_type": "code",
   "execution_count": 3,
   "metadata": {},
   "outputs": [
    {
     "output_type": "stream",
     "name": "stdout",
     "text": [
      "Requirement already satisfied: python-axolotl in /Library/Frameworks/Python.framework/Versions/3.7/lib/python3.7/site-packages (0.2.3)\n",
      "Requirement already satisfied: protobuf>=3.0.0.b2 in /Library/Frameworks/Python.framework/Versions/3.7/lib/python3.7/site-packages (from python-axolotl) (3.15.8)\n",
      "Requirement already satisfied: python-axolotl-curve25519>=0.4.1 in /Library/Frameworks/Python.framework/Versions/3.7/lib/python3.7/site-packages (from python-axolotl) (0.4.1.post2)\n",
      "Requirement already satisfied: cryptography in /Library/Frameworks/Python.framework/Versions/3.7/lib/python3.7/site-packages (from python-axolotl) (3.4.7)\n",
      "Requirement already satisfied: six>=1.9 in /Library/Frameworks/Python.framework/Versions/3.7/lib/python3.7/site-packages (from protobuf>=3.0.0.b2->python-axolotl) (1.15.0)\n",
      "Requirement already satisfied: cffi>=1.12 in /Users/zhuangweikang/Library/Python/3.7/lib/python/site-packages (from cryptography->python-axolotl) (1.14.2)\n",
      "Requirement already satisfied: pycparser in /Users/zhuangweikang/Library/Python/3.7/lib/python/site-packages (from cffi>=1.12->cryptography->python-axolotl) (2.20)\n",
      "\u001b[33mWARNING: You are using pip version 20.1.1; however, version 21.1.2 is available.\n",
      "You should consider upgrading via the '/Library/Frameworks/Python.framework/Versions/3.7/bin/python3.7 -m pip install --upgrade pip' command.\u001b[0m\n"
     ]
    }
   ],
   "source": [
    "!pip3 install python-axolotl"
   ]
  },
  {
   "cell_type": "code",
   "execution_count": 4,
   "metadata": {},
   "outputs": [
    {
     "output_type": "error",
     "ename": "ModuleNotFoundError",
     "evalue": "No module named 'axolotl'",
     "traceback": [
      "\u001b[0;31m---------------------------------------------------------------------------\u001b[0m",
      "\u001b[0;31mModuleNotFoundError\u001b[0m                       Traceback (most recent call last)",
      "\u001b[0;32m<ipython-input-4-23d429159c03>\u001b[0m in \u001b[0;36m<module>\u001b[0;34m\u001b[0m\n\u001b[0;32m----> 1\u001b[0;31m \u001b[0;32mfrom\u001b[0m \u001b[0maxolotl\u001b[0m\u001b[0;34m.\u001b[0m\u001b[0mbackend\u001b[0m\u001b[0;34m.\u001b[0m\u001b[0msimple\u001b[0m \u001b[0;32mimport\u001b[0m \u001b[0mSimpleRunner\u001b[0m\u001b[0;34m\u001b[0m\u001b[0;34m\u001b[0m\u001b[0m\n\u001b[0m\u001b[1;32m      2\u001b[0m \u001b[0;34m\u001b[0m\u001b[0m\n\u001b[1;32m      3\u001b[0m \u001b[0;32mfrom\u001b[0m \u001b[0mtods\u001b[0m\u001b[0;34m.\u001b[0m\u001b[0mutils\u001b[0m \u001b[0;32mimport\u001b[0m \u001b[0mgenerate_dataset_problem\u001b[0m\u001b[0;34m\u001b[0m\u001b[0;34m\u001b[0m\u001b[0m\n\u001b[1;32m      4\u001b[0m \u001b[0;32mfrom\u001b[0m \u001b[0mtods\u001b[0m\u001b[0;34m.\u001b[0m\u001b[0msearch\u001b[0m \u001b[0;32mimport\u001b[0m \u001b[0mBruteForceSearch\u001b[0m\u001b[0;34m\u001b[0m\u001b[0;34m\u001b[0m\u001b[0m\n\u001b[1;32m      5\u001b[0m \u001b[0;34m\u001b[0m\u001b[0m\n",
      "\u001b[0;31mModuleNotFoundError\u001b[0m: No module named 'axolotl'"
     ]
    }
   ],
   "source": [
    "from axolotl.backend.simple import SimpleRunner\n",
    "\n",
    "from tods.utils import generate_dataset_problem\n",
    "from tods.search import BruteForceSearch\n",
    "\n",
    "# Some information\n",
    "#table_path = 'datasets/NAB/realTweets/labeled_Twitter_volume_GOOG.csv' # The path of the dataset\n",
    "#target_index = 2 # what column is the target\n",
    "\n",
    "table_path = 'datasets/yahoo_sub_5.csv'\n",
    "target_index = 6 # what column is the target\n",
    "time_limit = 30 # How many seconds you wanna search\n",
    "metric = 'F1_MACRO' # F1 on both label 0 and 1\n",
    "\n",
    "# Read data and generate dataset and problem\n",
    "df = pd.read_csv(table_path)\n",
    "dataset= generate_dataset(df, target_index=target_index)\n",
    "problem_description = generate_problem(dataset, metric)\n",
    "\n",
    "# Start backend\n",
    "backend = SimpleRunner(random_seed=0)\n",
    "\n",
    "# Start search algorithm\n",
    "search = BruteForceSearch(problem_description=problem_description, backend=backend)\n",
    "\n",
    "# Find the best pipeline\n",
    "best_runtime, best_pipeline_result = search.search_fit(input_data=[dataset], time_limit=time_limit)\n",
    "best_pipeline = best_runtime.pipeline\n",
    "best_output = best_pipeline_result.output\n",
    "\n",
    "# Evaluate the best pipeline\n",
    "best_scores = search.evaluate(best_pipeline).scores"
   ]
  }
 ]
}