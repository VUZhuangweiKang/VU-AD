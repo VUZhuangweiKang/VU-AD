{
 "cells": [
  {
   "cell_type": "code",
   "execution_count": 1,
   "source": [
    "import numpy as np\n",
    "import pandas as pd\n",
    "\n",
    "x_train = pd.read_csv('machine-1-1-X_train.csv', header=None)\n",
    "y_train = pd.read_csv('machine-1-1-y_train.csv', header=None)"
   ],
   "outputs": [],
   "metadata": {}
  },
  {
   "cell_type": "code",
   "execution_count": 2,
   "source": [
    "x_train = x_train.values\n",
    "y_train = y_train.values"
   ],
   "outputs": [],
   "metadata": {}
  },
  {
   "cell_type": "code",
   "execution_count": 3,
   "source": [
    "normals = np.where(y_train == 0)[0]"
   ],
   "outputs": [],
   "metadata": {}
  },
  {
   "cell_type": "code",
   "execution_count": 4,
   "source": [
    "x_train = x_train[normals]"
   ],
   "outputs": [],
   "metadata": {}
  },
  {
   "cell_type": "code",
   "execution_count": 5,
   "source": [
    "x_train = x_train.squeeze()"
   ],
   "outputs": [],
   "metadata": {}
  },
  {
   "cell_type": "code",
   "execution_count": 6,
   "source": [
    "x_train"
   ],
   "outputs": [
    {
     "output_type": "execute_result",
     "data": {
      "text/plain": [
       "array([[0.074332, 0.933333, 0.031081, ..., 0.067808, 0.935405, 0.018077],\n",
       "       [0.076655, 0.930769, 0.031081, ..., 0.071395, 0.996555, 0.016026],\n",
       "       [0.074332, 0.928205, 0.03094 , ..., 0.063277, 0.96031 , 0.011763],\n",
       "       ...,\n",
       "       [0.047619, 0.907692, 0.026114, ..., 0.069636, 0.95665 , 0.011955],\n",
       "       [0.046458, 0.902564, 0.03321 , ..., 0.077487, 0.893706, 0.009679],\n",
       "       [0.044135, 0.892308, 0.030656, ..., 0.073765, 0.241011, 0.003654]])"
      ]
     },
     "metadata": {},
     "execution_count": 6
    }
   ],
   "metadata": {}
  },
  {
   "cell_type": "code",
   "execution_count": 7,
   "source": [
    "np.savetxt(\"X_train.csv\", x_train, delimiter=\",\")"
   ],
   "outputs": [],
   "metadata": {}
  }
 ],
 "metadata": {
  "orig_nbformat": 4,
  "language_info": {
   "name": "python",
   "version": "3.8.8",
   "mimetype": "text/x-python",
   "codemirror_mode": {
    "name": "ipython",
    "version": 3
   },
   "pygments_lexer": "ipython3",
   "nbconvert_exporter": "python",
   "file_extension": ".py"
  },
  "kernelspec": {
   "name": "python3",
   "display_name": "Python 3.8.8 64-bit ('base': conda)"
  },
  "interpreter": {
   "hash": "dca0ade3e726a953b501b15e8e990130d2b7799f14cfd9f4271676035ebe5511"
  }
 },
 "nbformat": 4,
 "nbformat_minor": 2
}