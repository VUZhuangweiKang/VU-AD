{
  "nbformat": 4,
  "nbformat_minor": 2,
  "metadata": {
    "colab": {
      "name": "MAF.ipynb",
      "provenance": [],
      "collapsed_sections": []
    },
    "kernelspec": {
      "name": "python3",
      "display_name": "Python 3.8.10 64-bit"
    },
    "interpreter": {
      "hash": "e7370f93d1d0cde622a1f8e1c04877d8463912d04d973331ad4851f04de6915a"
    },
    "language_info": {
      "name": "python",
      "version": "3.8.10",
      "mimetype": "text/x-python",
      "codemirror_mode": {
        "name": "ipython",
        "version": 3
      },
      "pygments_lexer": "ipython3",
      "nbconvert_exporter": "python",
      "file_extension": ".py"
    }
  },
  "cells": [
    {
      "cell_type": "code",
      "execution_count": null,
      "source": [
        "import matplotlib.pyplot as plt\n",
        "%matplotlib inline\n",
        "from load_data import *\n",
        "from flow_catlog import *\n",
        "import flow_manager as fm\n",
        "import autoencoder as ae\n",
        "import classifier as clfr\n",
        "from sampler import *\n",
        "from utl import *\n",
        "import pandas as pd\n",
        "from sklearn.utils import shuffle\n",
        "from sklearn.preprocessing import StandardScaler, MinMaxScaler\n",
        "from sklearn.model_selection import train_test_split\n",
        "\n",
        "from mpl_toolkits.axes_grid1.axes_divider import make_axes_locatable\n",
        "from tensorflow.compat.v1 import logging\n",
        "import math\n",
        "logging.set_verbosity(logging.ERROR)"
      ],
      "outputs": [],
      "metadata": {
        "id": "Ii1e-SbMHNmF"
      }
    },
    {
      "cell_type": "code",
      "execution_count": null,
      "source": [
        "DTYPE=tf.float32\n",
        "NP_DTYPE=np.float32\n",
        "num_blocks = 10\n",
        "steps = 5000\n",
        "lr = 1e-3\n",
        "x_datafile = 'X_train.csv'\n",
        "y_datafile = 'y_train.csv'"
      ],
      "outputs": [],
      "metadata": {
        "id": "8wvCatvrHwwx"
      }
    },
    {
      "cell_type": "code",
      "execution_count": null,
      "source": [
        "X_data = pd.read_csv(x_datafile, header=None)\n",
        "y_data = pd.read_csv(y_datafile, header=None).values\n",
        "\n",
        "X_data = X_data.values.astype(NP_DTYPE)\n",
        "X_data = StandardScaler().fit_transform(X_data)\n",
        "input_dims = X_data.shape[1]"
      ],
      "outputs": [],
      "metadata": {
        "id": "Kew2CMXYHy74"
      }
    },
    {
      "cell_type": "code",
      "execution_count": null,
      "source": [
        "X_train, X_test = train_test_split(X_data, test_size=0.1, random_state=42, shuffle=False)\n",
        "y_train, y_test = train_test_split(y_data, test_size=0.1, random_state=42, shuffle=False)"
      ],
      "outputs": [],
      "metadata": {}
    },
    {
      "cell_type": "code",
      "execution_count": null,
      "source": [
        "def local_ploter(data, cols=4):\n",
        "    cols = min(data.shape[1], 4)\n",
        "    nrows = math.ceil(data.shape[1]/cols)\n",
        "    fig, ax = plt.subplots(nrows=nrows, ncols=cols, figsize=(5*cols, 4*nrows))\n",
        "    for i in range(math.ceil(data.shape[1]/cols)):\n",
        "        for j in range(cols):\n",
        "            if i*cols+j < data.shape[1]:\n",
        "                if nrows == 1:\n",
        "                    ax[j].plot(data[:, i*cols+j])\n",
        "                else:\n",
        "                    ax[i][j].plot(data[:, i*cols+j])\n",
        "\n",
        "    plt.tight_layout()\n",
        "    plt.show()"
      ],
      "outputs": [],
      "metadata": {}
    },
    {
      "cell_type": "code",
      "execution_count": null,
      "source": [
        "local_ploter(X_train)"
      ],
      "outputs": [],
      "metadata": {}
    },
    {
      "cell_type": "markdown",
      "source": [
        "# Train an AutoEncoder"
      ],
      "metadata": {}
    },
    {
      "cell_type": "code",
      "execution_count": null,
      "source": [
        "%%script false --no-raise-error\n",
        "\n",
        "# Parameters for AutoEncoder\n",
        "latent_dims = 2\n",
        "encoder_units = [64, 32]\n",
        "decoder_units = [32, 64]\n",
        "\n",
        "encoder = ae.build_encoder(input_dims, latent_dims, hidden_units=encoder_units)\n",
        "decoder = ae.build_decoder(input_dims, latent_dims, hidden_units=decoder_units)\n",
        "autoencoder = ae.AutoEncoder(encoder, decoder, flow_model=None, flow_opt=None)\n",
        "autoencoder.compile()\n",
        "history = autoencoder.fit(X_train, epochs=30, batch_size=64, verbose=1, validation_split=0.33, shuffle=True)\n",
        "plt.plot(history.history['reconstruction_loss'])\n",
        "\n",
        "X_train_decoded = autoencoder.predict(X_train)\n",
        "local_ploter(X_train_decoded)"
      ],
      "outputs": [],
      "metadata": {}
    },
    {
      "cell_type": "markdown",
      "source": [
        "# Smooth Data"
      ],
      "metadata": {}
    },
    {
      "cell_type": "code",
      "execution_count": null,
      "source": [
        "%%script false --no-raise-error\n",
        "\n",
        "# import libraries\n",
        "import numpy as np\n",
        "import matplotlib.pyplot as plt\n",
        "from tsmoothie.utils_func import sim_seasonal_data\n",
        "from tsmoothie.smoother import ConvolutionSmoother\n",
        "from tsmoothie.bootstrap import BootstrappingWrapper\n",
        "\n",
        "# operate bootstrap\n",
        "bts = BootstrappingWrapper(ConvolutionSmoother(window_len=8, window_type='ones'), \n",
        "                           bootstrap_type='mbb', block_length=24)\n",
        "bts_samples = bts.sample(X_train[:, 0], n_samples=100)\n",
        "\n",
        "# plot the bootstrapped timeseries\n",
        "plt.figure(figsize=(13,5))\n",
        "plt.plot(bts_samples.T, alpha=0.3, c='orange')\n",
        "plt.plot(X_train[:, 0], c='blue', linewidth=0.5)"
      ],
      "outputs": [],
      "metadata": {}
    },
    {
      "cell_type": "markdown",
      "source": [
        "# Training a Flow Model"
      ],
      "metadata": {
        "id": "KorssdZoPcnW"
      }
    },
    {
      "cell_type": "code",
      "execution_count": null,
      "source": [
        "base_dist = tfd.MultivariateNormalDiag(loc=tf.zeros([input_dims], DTYPE), scale_diag=tf.ones([input_dims], DTYPE))"
      ],
      "outputs": [],
      "metadata": {}
    },
    {
      "cell_type": "code",
      "execution_count": null,
      "source": [
        "# model = MAF(base_dist, \n",
        "#             num_blocks, \n",
        "#             hidden_units=[32, 32],\n",
        "#             ndims=input_dims, \n",
        "#             activation=tf.nn.relu,\n",
        "#             learning_rate=lr, \n",
        "#             use_batchnorm=True)\n",
        "\n",
        "# model = IAF(base_dist, \n",
        "#             num_blocks, \n",
        "#             hidden_units=[512, 512],\n",
        "#             ndims=input_dims, \n",
        "#             activation=tf.nn.relu,\n",
        "#             learning_rate=lr, \n",
        "#             use_batchnorm=True)\n",
        "\n",
        "model = RealNVP(base_dist, \n",
        "                num_blocks, \n",
        "                hidden_units=[512, 512],\n",
        "                ndims=input_dims, \n",
        "                activation=tf.nn.relu,\n",
        "                learning_rate=lr, \n",
        "                use_batchnorm=True)\n",
        "\n",
        "# losses = fm.train_dist_routine(X_train, model.flow, lr, 1000)\n",
        "# plt.plot(losses)"
      ],
      "outputs": [],
      "metadata": {}
    },
    {
      "cell_type": "code",
      "execution_count": null,
      "source": [
        "model.compile()\n",
        "history = model.fit(x=X_train, batch_size=128, epochs=300, shuffle=False)\n",
        "plt.plot(history.history['loss'])"
      ],
      "outputs": [],
      "metadata": {}
    },
    {
      "cell_type": "code",
      "execution_count": null,
      "source": [
        "X_train_samples = model.flow.sample(1000)\n",
        "local_ploter(X_train_samples)"
      ],
      "outputs": [],
      "metadata": {}
    },
    {
      "cell_type": "code",
      "execution_count": null,
      "source": [
        "x_train_log_prob = model.flow.log_prob(X_train).numpy()\n",
        "plt.hist(x_train_log_prob, bins=3000)\n",
        "plt.xlim(-25, 25)\n",
        "plt.show()"
      ],
      "outputs": [],
      "metadata": {}
    },
    {
      "cell_type": "code",
      "execution_count": null,
      "source": [
        "from sklearn.metrics import confusion_matrix, precision_recall_fscore_support, roc_curve\n",
        "threshold = -20\n",
        "\n",
        "y_predicted = model.flow.log_prob(X_train).numpy() < threshold\n",
        "\n",
        "metrics = precision_recall_fscore_support(y_train, y_predicted)\n",
        "print('precision: {}'.format(metrics[0]))\n",
        "print('recall: {}'.format(metrics[1]))\n",
        "print('fscore: {}'.format(metrics[2]))\n",
        "print('support: {}'.format(metrics[3]))"
      ],
      "outputs": [],
      "metadata": {}
    },
    {
      "cell_type": "code",
      "execution_count": null,
      "source": [
        "fig, axes = plt.subplots(2, figsize=(30,10))\n",
        "x = np.arange(X_train.shape[0])\n",
        "anomaly_true = np.where(y_train == 1)[0]\n",
        "anomaly_predicted_index = np.where(y_predicted==1)\n",
        "axes[0].scatter(x, X_train[:, 0], color='red', zorder=1, label='col-0', s=10)\n",
        "axes[0].scatter(anomaly_predicted_index, X_train[anomaly_predicted_index, 0], s=10, color='blue', zorder=2, label='anomaly_predicted')\n",
        "axes[0].vlines(anomaly_true, ymin=X_train[:, 0].min(), ymax=X_train[:, 0].max(), linewidth=1, zorder=0, label='anomaly_true', color='green')\n",
        "axes[0].legend()\n",
        "\n",
        "axes[1].scatter(x, X_train[:, 1], color='red', zorder=1, label='col-1', s=10)\n",
        "axes[1].scatter(anomaly_predicted_index, X_train[anomaly_predicted_index, 1], s=10, color='blue', zorder=2, label='anomaly_predicted')\n",
        "axes[1].vlines(anomaly_true, ymin=X_train[:, 1].min(), ymax=X_train[:, 1].max(), linewidth=1, zorder=0, label='anomaly_true', color='green')\n",
        "axes[1].legend()\n",
        "\n",
        "plt.show()"
      ],
      "outputs": [],
      "metadata": {}
    },
    {
      "cell_type": "markdown",
      "source": [
        "# Generate Data for the Classifier"
      ],
      "metadata": {}
    },
    {
      "cell_type": "code",
      "execution_count": null,
      "source": [
        "factor = 10\n",
        "\n",
        "anomalies = sample_anomalies(model, factor=factor, n_samples=1000, sample_shape=input_dims)\n",
        "normals = sample_normals(model, factor=factor, n_samples=10000, sample_shape=input_dims)\n",
        "clr_x = pd.DataFrame(np.concatenate((anomalies, normals)), columns=['col%d' % i for i in range(anomalies.shape[1])])\n",
        "clr_y = pd.DataFrame(np.concatenate(([1]*len(anomalies), [0]*len(normals))), columns=['label'])\n",
        "clr_data = pd.concat([clr_x, clr_y], axis=1)\n",
        "clr_data.dropna(inplace=True)\n",
        "clr_data = shuffle(clr_data)\n",
        "clr_x = clr_data[clr_data.columns[:-1]]\n",
        "clr_x = MinMaxScaler().fit_transform(clr_x)\n",
        "clr_y = clr_data['label']\n",
        "\n",
        "clr_X_train, clr_X_test, clr_y_train, clr_y_test = train_test_split(clr_x, clr_y, test_size=0.33, random_state=42)\n",
        "clf, score = clfr.RFClassifier(clr_X_train, clr_y_train, clr_X_test, clr_y_test)\n",
        "\n",
        "print('precision: {}'.format(score[0]))\n",
        "print('recall: {}'.format(score[1]))\n",
        "print('fscore: {}'.format(score[2]))\n",
        "print('support: {}'.format(score[3]))"
      ],
      "outputs": [],
      "metadata": {}
    },
    {
      "cell_type": "markdown",
      "source": [
        "# Apply Classifier on Real Data"
      ],
      "metadata": {}
    },
    {
      "cell_type": "code",
      "execution_count": null,
      "source": [
        "clr_y_data = clf.predict(X_train)\n",
        "y_data_anomalies = np.where(clr_y_data == 1)[0]\n",
        "y_data_anomalies.shape"
      ],
      "outputs": [],
      "metadata": {}
    },
    {
      "cell_type": "code",
      "execution_count": null,
      "source": [
        "fig, axes = plt.subplots(2, figsize=(30,10))\n",
        "x = np.arange(len(clr_X_train[:, 0]))\n",
        "axes[0].plot(x, X_train[:, 0], color='red', zorder=0)\n",
        "axes[0].scatter(y_data_anomalies, X_train[y_data_anomalies, 0], s=10, color='blue', zorder=1)\n",
        "\n",
        "axes[1].plot(x, X_train[:, 1], color='red', zorder=0)\n",
        "axes[1].scatter(y_data_anomalies, X_train[y_data_anomalies, 1], color='blue', s=10, zorder=1)\n",
        "\n",
        "plt.show()"
      ],
      "outputs": [],
      "metadata": {}
    }
  ]
}