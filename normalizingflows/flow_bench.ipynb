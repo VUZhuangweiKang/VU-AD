{
  "nbformat": 4,
  "nbformat_minor": 2,
  "metadata": {
    "colab": {
      "name": "MAF.ipynb",
      "provenance": [],
      "collapsed_sections": []
    },
    "kernelspec": {
      "name": "python3",
      "display_name": "Python 3.9.4 64-bit"
    },
    "language_info": {
      "name": "python",
      "version": "3.9.4",
      "mimetype": "text/x-python",
      "codemirror_mode": {
        "name": "ipython",
        "version": 3
      },
      "pygments_lexer": "ipython3",
      "nbconvert_exporter": "python",
      "file_extension": ".py"
    },
    "interpreter": {
      "hash": "31f2aee4e71d21fbe5cf8b01ff0e069b9275f58929596ceb00d14d90e3e16cd6"
    }
  },
  "cells": [
    {
      "cell_type": "code",
      "execution_count": 1,
      "source": [
        "import matplotlib.pyplot as plt\n",
        "%matplotlib inline\n",
        "from load_data import *\n",
        "from flow_catlog import *\n",
        "import flow_manager as fm\n",
        "import autoencoder as ae\n",
        "import classifier as clfr\n",
        "from sampler import *\n",
        "from utl import *\n",
        "import pandas as pd\n",
        "from sklearn.utils import shuffle\n",
        "from sklearn.preprocessing import StandardScaler, MinMaxScaler\n",
        "from sklearn.model_selection import train_test_split\n",
        "\n",
        "from mpl_toolkits.axes_grid1.axes_divider import make_axes_locatable\n",
        "from tensorflow.compat.v1 import logging\n",
        "logging.set_verbosity(logging.ERROR)"
      ],
      "outputs": [
        {
          "output_type": "stream",
          "name": "stderr",
          "text": [
            "2021-08-31 09:48:20.034548: W tensorflow/stream_executor/platform/default/dso_loader.cc:64] Could not load dynamic library 'libcudart.so.11.0'; dlerror: libcudart.so.11.0: cannot open shared object file: No such file or directory\n",
            "2021-08-31 09:48:20.034577: I tensorflow/stream_executor/cuda/cudart_stub.cc:29] Ignore above cudart dlerror if you do not have a GPU set up on your machine.\n"
          ]
        }
      ],
      "metadata": {
        "id": "Ii1e-SbMHNmF"
      }
    },
    {
      "cell_type": "code",
      "execution_count": 2,
      "source": [
        "DTYPE=tf.float32\n",
        "NP_DTYPE=np.float32\n",
        "num_bijectors = 6\n",
        "steps = 2000\n",
        "lr = 1e-3\n",
        "datafile = 'machine-1-1.csv'"
      ],
      "outputs": [],
      "metadata": {
        "id": "8wvCatvrHwwx"
      }
    },
    {
      "cell_type": "code",
      "execution_count": null,
      "source": [
        "X_data = pd.read_csv(datafile, header=None)"
      ],
      "outputs": [],
      "metadata": {
        "id": "Kew2CMXYHy74"
      }
    },
    {
      "cell_type": "code",
      "execution_count": null,
      "source": [
        "X_data = X_data.values.astype(np.float32)\n",
        "X_data = MinMaxScaler().fit_transform(X_data)"
      ],
      "outputs": [],
      "metadata": {}
    },
    {
      "cell_type": "code",
      "execution_count": null,
      "source": [
        "# Plot joint distribution\n",
        "plt.scatter(X_data[:, 0], X_data[:, 1], s=10, color='red')"
      ],
      "outputs": [],
      "metadata": {}
    },
    {
      "cell_type": "code",
      "execution_count": null,
      "source": [
        "# sample from the base distribution\n",
        "\n",
        "input_dims = X_data.shape[1]\n",
        "base_dist = tfd.MultivariateNormalDiag(loc=tf.zeros([input_dims], tf.float32))\n",
        "activation = tf.nn.relu\n",
        "flow = IAF(base_dist, num_bijectors, hidden_units=[256, 256], ndims=input_dims, activation=activation)"
      ],
      "outputs": [],
      "metadata": {
        "colab": {
          "base_uri": "https://localhost:8080/",
          "height": 399
        },
        "id": "rT4y8PBnJglz",
        "outputId": "94611d1e-7ea6-4c65-8864-e9b5b7e56a83"
      }
    },
    {
      "cell_type": "markdown",
      "source": [
        "# Training an IAF Flow"
      ],
      "metadata": {
        "id": "KorssdZoPcnW"
      }
    },
    {
      "cell_type": "code",
      "execution_count": null,
      "source": [
        "losses = fm.train_dist_routine(X_data, flow, learning_rate=lr, steps=steps)\n",
        "plt.plot(losses)"
      ],
      "outputs": [],
      "metadata": {}
    },
    {
      "cell_type": "code",
      "execution_count": null,
      "source": [
        "# Make samples\n",
        "names, samples = make_samples(base_dist, flow, n_samples=X_data.shape[0])\n",
        "visualize_training_data(X_data, samples)"
      ],
      "outputs": [],
      "metadata": {
        "id": "y0_HNep8ZUYg"
      }
    },
    {
      "cell_type": "code",
      "execution_count": null,
      "source": [
        "plot_contour_prob([flow], scale_fig=6)"
      ],
      "outputs": [],
      "metadata": {
        "colab": {
          "base_uri": "https://localhost:8080/",
          "height": 399
        },
        "id": "4A6w6WrHbTPS",
        "outputId": "33cfbe3c-b687-4f70-d1d2-02a4e96f04ef"
      }
    },
    {
      "cell_type": "code",
      "execution_count": null,
      "source": [
        "# TODO: how to determin the threshold?\n",
        "anomalies = detect_anomalies(data=X_data, model=flow, threshold=0.01)\n",
        "fig, axes = plt.subplots(2, figsize=(30,10))\n",
        "x = np.arange(len(X_data[:, 0]))\n",
        "axes[0].plot(x, X_data[:, 0], color='red', zorder=0)\n",
        "axes[0].scatter(anomalies, X_data[anomalies, 0], s=10, color='blue', zorder=1)\n",
        "\n",
        "axes[1].plot(x, X_data[:, 1], color='red', zorder=0)\n",
        "axes[1].scatter(anomalies, X_data[anomalies, 1], color='blue', s=10, zorder=1)\n",
        "\n",
        "plt.show()"
      ],
      "outputs": [],
      "metadata": {}
    },
    {
      "cell_type": "markdown",
      "source": [
        "# Data Distribution Before/After Training"
      ],
      "metadata": {}
    },
    {
      "cell_type": "code",
      "execution_count": null,
      "source": [
        "temp = flow.bijector.inverse(X_data).numpy()"
      ],
      "outputs": [],
      "metadata": {}
    },
    {
      "cell_type": "markdown",
      "source": [
        "## Before"
      ],
      "metadata": {}
    },
    {
      "cell_type": "code",
      "execution_count": null,
      "source": [
        "fig, axes = plt.subplots(2)\n",
        "axes[0].hist(temp[:, 0], bins=100, density=True)\n",
        "axes[1].hist(temp[:, 1], bins=100, density=True)\n",
        "plt.show()"
      ],
      "outputs": [],
      "metadata": {}
    },
    {
      "cell_type": "markdown",
      "source": [
        "## After"
      ],
      "metadata": {}
    },
    {
      "cell_type": "code",
      "execution_count": null,
      "source": [
        "fig, axes = plt.subplots(2)\n",
        "axes[0].hist(X_data[:, 0], bins=100, density=True)\n",
        "axes[1].hist(X_data[:, 1], bins=100, density=True)\n",
        "plt.show()"
      ],
      "outputs": [],
      "metadata": {}
    },
    {
      "cell_type": "markdown",
      "source": [
        "# Generate Data for the Classifier"
      ],
      "metadata": {}
    },
    {
      "cell_type": "code",
      "execution_count": null,
      "source": [
        "factor = 2\n",
        "anomalies = sample_anomalies(flow, factor=factor, n_samples=3000)\n",
        "normals = sample_normals(flow, factor=factor, n_samples=10000)"
      ],
      "outputs": [],
      "metadata": {}
    },
    {
      "cell_type": "code",
      "execution_count": null,
      "source": [
        "anomalies = pd.DataFrame(anomalies)\n",
        "normals = pd.DataFrame(normals)\n",
        "anomalies.columns = ['v1', 'v2']\n",
        "normals.columns = ['v1', 'v2']\n",
        "anomalies['label'] = 1\n",
        "normals['label'] = 0"
      ],
      "outputs": [],
      "metadata": {}
    },
    {
      "cell_type": "code",
      "execution_count": null,
      "source": [
        "clr_data = pd.concat([anomalies, normals], axis=0)\n",
        "clr_data = clr_data.dropna()\n",
        "clr_data = shuffle(clr_data)"
      ],
      "outputs": [],
      "metadata": {}
    },
    {
      "cell_type": "code",
      "execution_count": null,
      "source": [
        "X_train, X_test, y_train, y_test = train_test_split(clr_data[['v1', 'v2']], clr_data['label'], test_size=0.33, random_state=42)\n",
        "clf, score = clfr.RFClassifier(X_train, y_train, X_test, y_test)\n",
        "print('precision: {}'.format(score[0]))\n",
        "print('recall: {}'.format(score[1]))\n",
        "print('fscore: {}'.format(score[2]))\n",
        "print('support: {}'.format(score[3]))"
      ],
      "outputs": [],
      "metadata": {}
    },
    {
      "cell_type": "markdown",
      "source": [
        "# Apply Classifier on Real Data"
      ],
      "metadata": {}
    },
    {
      "cell_type": "code",
      "execution_count": null,
      "source": [
        "y_data = clf.predict(X_data)\n",
        "y_data_anomalies = np.where(y_data == 1)"
      ],
      "outputs": [],
      "metadata": {}
    },
    {
      "cell_type": "code",
      "execution_count": null,
      "source": [
        "fig, axes = plt.subplots(2, figsize=(30,10))\n",
        "x = np.arange(len(X_data[:, 0]))\n",
        "axes[0].plot(x, X_data[:, 0], color='red', zorder=0)\n",
        "axes[0].scatter(y_data_anomalies, X_data[y_data_anomalies, 0], s=10, color='blue', zorder=1)\n",
        "\n",
        "axes[1].plot(x, X_data[:, 1], color='red', zorder=0)\n",
        "axes[1].scatter(y_data_anomalies, X_data[y_data_anomalies, 1], color='blue', s=10, zorder=1)\n",
        "\n",
        "plt.show()"
      ],
      "outputs": [],
      "metadata": {}
    }
  ]
}