{
 "cells": [
  {
   "cell_type": "code",
   "execution_count": 1,
   "source": [
    "import torch\n",
    "import pyro\n",
    "import pyro.distributions as dist\n",
    "import pyro.distributions.transforms as T\n",
    "from pyro.nn import AutoRegressiveNN\n",
    "import matplotlib.pyplot as plt\n",
    "import seaborn as sns\n",
    "import os\n",
    "import pandas as pd\n",
    "import numpy as np\n",
    "import math\n",
    "from sklearn.preprocessing import StandardScaler, MinMaxScaler\n",
    "from sklearn.model_selection import train_test_split\n",
    "smoke_test = ('CI' in os.environ)"
   ],
   "outputs": [],
   "metadata": {}
  },
  {
   "cell_type": "code",
   "execution_count": 2,
   "source": [
    "num_bijectors = 6\n",
    "steps = 5000\n",
    "lr = 1e-4\n",
    "datafile = 'machine-1-1.csv'"
   ],
   "outputs": [],
   "metadata": {}
  },
  {
   "cell_type": "code",
   "execution_count": 3,
   "source": [
    "X_data = pd.read_csv(datafile, header=None)\n",
    "X_data = X_data.iloc[:10000]\n",
    "input_dims = X_data.shape[1]\n",
    "\n",
    "X_data = X_data.values.astype(np.float)\n",
    "X_data = MinMaxScaler().fit_transform(X_data)"
   ],
   "outputs": [],
   "metadata": {}
  },
  {
   "cell_type": "code",
   "execution_count": 4,
   "source": [
    "X_train, X_test = train_test_split(X_data, test_size=0.33, random_state=42, shuffle=False)"
   ],
   "outputs": [],
   "metadata": {}
  },
  {
   "cell_type": "code",
   "execution_count": 5,
   "source": [
    "def local_ploter(data, cols=4):\n",
    "    fig, ax = plt.subplots(nrows=math.ceil(data.shape[1]/cols), ncols=cols, figsize=(30,10))\n",
    "    for i in range(math.ceil(data.shape[1]/cols)):\n",
    "        for j in range(cols):\n",
    "            if i*cols+j < data.shape[1]:\n",
    "                ax[i][j].plot(data[:, i*cols+j])\n",
    "                ax[i][j].set_ylim(0, 1)\n",
    "\n",
    "    plt.tight_layout()\n",
    "    plt.show()"
   ],
   "outputs": [],
   "metadata": {}
  },
  {
   "cell_type": "code",
   "execution_count": 6,
   "source": [
    "base_dist = dist.Normal(torch.zeros(input_dims), torch.ones(input_dims))\n",
    "# transform = T.spline_coupling(input_dims, count_bins=16)\n",
    "arn = AutoRegressiveNN(input_dims, [16]*10)\n",
    "transform = T.AffineAutoregressive(arn)\n",
    "flow_dist = dist.TransformedDistribution(base_dist, [transform])"
   ],
   "outputs": [],
   "metadata": {}
  },
  {
   "cell_type": "code",
   "execution_count": 7,
   "source": [
    "dataset = torch.tensor(X_train, dtype=torch.float)\n",
    "optimizer = torch.optim.Adam(transform.parameters(), lr=lr)\n",
    "for step in range(steps+1):\n",
    "    optimizer.zero_grad()\n",
    "    loss = -flow_dist.log_prob(dataset).mean()\n",
    "    loss.backward()\n",
    "    optimizer.step()\n",
    "    flow_dist.clear_cache()\n",
    "\n",
    "    if step % 500 == 0:\n",
    "        print('step: {}, loss: {}'.format(step, loss.item()))"
   ],
   "outputs": [
    {
     "output_type": "stream",
     "name": "stdout",
     "text": [
      "step: 0, loss: 6.228704452514648\n",
      "step: 500, loss: 5.433954238891602\n",
      "step: 1000, loss: 4.180740833282471\n",
      "step: 1500, loss: 1.3124299049377441\n",
      "step: 2000, loss: 0.12506146728992462\n",
      "step: 2500, loss: -1.0093340873718262\n"
     ]
    }
   ],
   "metadata": {}
  },
  {
   "cell_type": "code",
   "execution_count": null,
   "source": [
    "X_flow = flow_dist.sample(torch.Size([1000,])).detach().numpy()"
   ],
   "outputs": [],
   "metadata": {}
  },
  {
   "cell_type": "code",
   "execution_count": null,
   "source": [
    "local_ploter(X_flow)"
   ],
   "outputs": [],
   "metadata": {}
  }
 ],
 "metadata": {
  "orig_nbformat": 4,
  "language_info": {
   "name": "python",
   "version": "3.8.10",
   "mimetype": "text/x-python",
   "codemirror_mode": {
    "name": "ipython",
    "version": 3
   },
   "pygments_lexer": "ipython3",
   "nbconvert_exporter": "python",
   "file_extension": ".py"
  },
  "kernelspec": {
   "name": "python3",
   "display_name": "Python 3.8.10 64-bit"
  },
  "interpreter": {
   "hash": "e7370f93d1d0cde622a1f8e1c04877d8463912d04d973331ad4851f04de6915a"
  }
 },
 "nbformat": 4,
 "nbformat_minor": 2
}